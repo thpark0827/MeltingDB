{
 "cells": [
  {
   "cell_type": "markdown",
   "id": "b21f0094-67c4-4f41-be93-2d8f10322a64",
   "metadata": {},
   "source": [
    "# Module Import"
   ]
  },
  {
   "cell_type": "code",
   "execution_count": null,
   "id": "a4b405ab-efd2-4d48-bb66-676209f0162c",
   "metadata": {},
   "outputs": [],
   "source": [
    "from chemdataextractor import Document\n",
    "from chemdataextractor.reader import PdfReader\n",
    "from chemdataextractor.parse import R, I, join, AutoSentenceParser, AutoTableParser\n",
    "from chemdataextractor.model.units import TemperatureModel\n",
    "from chemdataextractor.model import StringType, ModelType, Compound\n",
    "\n",
    "import os\n",
    "import pandas as pd"
   ]
  },
  {
   "cell_type": "markdown",
   "id": "b3fe5ab0-14d7-4700-99a1-b1459a1fa464",
   "metadata": {},
   "source": [
    "# Property Model"
   ]
  },
  {
   "cell_type": "code",
   "execution_count": null,
   "id": "aa822534-6592-458d-bfa8-420f1187d4c3",
   "metadata": {},
   "outputs": [],
   "source": [
    "class MeltingPoint(TemperatureModel):\n",
    "    \"\"\" A melting point measurement \"\"\"\n",
    "    \n",
    "    specifier_expression = (\n",
    "        R(\"[Mm]elting\") + R(\"point(s?)\")\n",
    "        | R(\"[Mm]elting\") + R(\"temperature(s?)\")\n",
    "        | I(\"Tm\")\n",
    "        | I(\"mp\")\n",
    "        | I(\"m.p\")\n",
    "        | I(\"m.p.\")\n",
    "        | I(\"MP\")\n",
    "        | I(\"M.P\")\n",
    "        | I(\"M.P.\")\n",
    "    ).add_action(join)\n",
    "    \n",
    "    specifier = StringType(parse_expression=specifier_expression, required=True)\n",
    "    compound = ModelType(Compound, contextual=True, required=True)\n",
    "    parsers = [AutoSentenceParser(),  AutoTableParser()]"
   ]
  },
  {
   "cell_type": "markdown",
   "id": "cc4eac7e-5fd2-4ef4-aeba-3e4ba7a53b98",
   "metadata": {},
   "source": [
    "# Auto Extraction"
   ]
  },
  {
   "cell_type": "code",
   "execution_count": null,
   "id": "8af0bed0-e093-4f75-8217-288ffb16a61c",
   "metadata": {},
   "outputs": [],
   "source": [
    "folder = 'ACS_Organometallics_Article' # Targeted journal in this study, https://pubs.acs.org/journal/orgnd7\n",
    "file_list = os.listdir(folder)"
   ]
  },
  {
   "cell_type": "code",
   "execution_count": null,
   "id": "26aa04ae-ac50-4259-a077-81905b2300ae",
   "metadata": {},
   "outputs": [],
   "source": [
    "records = []\n",
    "\n",
    "for i in range(len(file_list)):\n",
    "    article = file_list[i]\n",
    "    print(article)\n",
    "    \n",
    "    try:\n",
    "        f = open(folder + \"/\" + article, 'rb')\n",
    "        doc = Document.from_file(f, readers=[PdfReader()])\n",
    "\n",
    "        extraction_model = MeltingPoint\n",
    "        doc.models = [extraction_model]\n",
    "        \n",
    "        parsed_information = doc.records.serialize()\n",
    "\n",
    "        for j in parsed_information:\n",
    "            if \"Compound\" in j:\n",
    "                continue\n",
    "            j[\"Article name\"] = article\n",
    "            j[\"Extraction Model\"] = extraction_model\n",
    "            records.append(j)\n",
    "            \n",
    "    except:\n",
    "        print('Unable to read document')"
   ]
  },
  {
   "cell_type": "code",
   "execution_count": null,
   "id": "9f0430c8-e292-42b3-be9e-2c512a906eb1",
   "metadata": {},
   "outputs": [],
   "source": [
    "Auto_Extraction_Records = pd.DataFrame(records)\n",
    "\n",
    "Auto_Extraction_Records.to_csv(\"ACS_OMs.csv\", encoding='utf-8-sig')"
   ]
  }
 ],
 "metadata": {
  "kernelspec": {
   "display_name": "Python 3 (ipykernel)",
   "language": "python",
   "name": "python3"
  },
  "language_info": {
   "codemirror_mode": {
    "name": "ipython",
    "version": 3
   },
   "file_extension": ".py",
   "mimetype": "text/x-python",
   "name": "python",
   "nbconvert_exporter": "python",
   "pygments_lexer": "ipython3",
   "version": "3.8.18"
  }
 },
 "nbformat": 4,
 "nbformat_minor": 5
}
