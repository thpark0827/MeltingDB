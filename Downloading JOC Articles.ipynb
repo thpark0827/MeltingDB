{
 "cells": [
  {
   "cell_type": "markdown",
   "id": "c23a0f92-26c8-40a6-af46-2a5432387c13",
   "metadata": {},
   "source": [
    "# Module Import"
   ]
  },
  {
   "cell_type": "code",
   "execution_count": null,
   "id": "41bbaeed-1e3d-44e1-a961-7628d6327f75",
   "metadata": {},
   "outputs": [],
   "source": [
    "import os, json, requests, joblib, time"
   ]
  },
  {
   "cell_type": "markdown",
   "id": "258cfb20-5e53-49f1-a603-2543c77b87bb",
   "metadata": {},
   "source": [
    "# Preparation"
   ]
  },
  {
   "cell_type": "code",
   "execution_count": null,
   "id": "8767cc39-e9ce-41bb-9076-7dc2f2bd2194",
   "metadata": {},
   "outputs": [],
   "source": [
    "api_key = 'Your-Api-Key' # Use your api key\n",
    "base_url = 'https://api.elsevier.com/content/search/sciencedirect'\n",
    "search_keyword = 'melting point' # Search keyword in this study\n",
    "Offset = 0\n",
    "Show = 100\n",
    "Headers = {'x-els-apikey': api_key, 'Content-Type': 'application/json', 'Accept': 'application/json'}\n",
    "Journal = 'Journal of Organometallic Chemistry' # Targeted journal in this study, https://www.sciencedirect.com/journal/journal-of-organometallic-chemistry"
   ]
  },
  {
   "cell_type": "markdown",
   "id": "72e6cb77-2374-4e42-882a-2aa6f570bd67",
   "metadata": {},
   "source": [
    "# Metadata Extraction"
   ]
  },
  {
   "cell_type": "code",
   "execution_count": null,
   "id": "d4dcd620-f2d6-426d-af88-6deccb347be4",
   "metadata": {},
   "outputs": [],
   "source": [
    "def get_response(url, Data, Headers):\n",
    "    \n",
    "    response = requests.put(url, data=json.dumps(Data), headers=Headers)\n",
    "    response = response.text.replace('false', 'False').replace('true', 'True')\n",
    "    \n",
    "    return eval(response)"
   ]
  },
  {
   "cell_type": "code",
   "execution_count": null,
   "id": "dd0a64d6-64c1-468b-8407-50ecaff2621d",
   "metadata": {},
   "outputs": [],
   "source": [
    "def search_journal(year):\n",
    "\n",
    "    for Offset in range(0, 1000, Show):\n",
    "        Data = {'qs': search_keyword, 'pub': Journal, 'date': year, 'filter': {\"openAccess\": True}, 'display': {'show': Show, 'offset': Offset, 'sortBy': 'date'}} \n",
    "        save_name = 'metadata/elsevier_journal={}_date={}_offset={}.sav'.format(Journal, year, Offset) # Change to your folder path\n",
    "        response = get_response(base_url, Data, Headers)\n",
    "\n",
    "        try:\n",
    "            print('year =', year, ', offset =', Offset, ', num of articles =', len(response['results']))\n",
    "            joblib.dump(response['results'], save_name)\n",
    "            time.sleep(1)\n",
    "        except KeyError:\n",
    "            print('nothing more found in this year')\n",
    "            break"
   ]
  },
  {
   "cell_type": "code",
   "execution_count": null,
   "id": "7369fc65-7077-40dc-b6dc-66869e60da01",
   "metadata": {
    "scrolled": true
   },
   "outputs": [],
   "source": [
    "# Publications published before a year of 2000 were excluded because of extraction accuracy issues. See the article.\n",
    "for i in range (2000, 2025, 1):\n",
    "    search_journal(i)"
   ]
  },
  {
   "cell_type": "markdown",
   "id": "83db594b-0265-4b13-a979-0ea9f3496f76",
   "metadata": {},
   "source": [
    "# Article Download"
   ]
  },
  {
   "cell_type": "code",
   "execution_count": null,
   "id": "e662b9c9-b721-4b85-9cf4-4ee53b6f02b0",
   "metadata": {},
   "outputs": [],
   "source": [
    "def download(result):\n",
    "\n",
    "    doi = result['doi']\n",
    "    \n",
    "    file_path = 'metadata/Article/' # Change to your folder path. Create Article folder to download files.\n",
    "    file_name = '{}{}.xml'.format(file_path, doi.replace('/', '_'))\n",
    "    print(file_name)\n",
    "    \n",
    "    request_url = 'https://api.elsevier.com/content/article/doi/{}?apiKey={}&httpAccept=text%2Fxml'.format(doi, api_key)\n",
    "    \n",
    "    with open(file_name, 'w', encoding='utf-8') as f:\n",
    "        text = requests.get(request_url).text\n",
    "        f.write(text)"
   ]
  },
  {
   "cell_type": "code",
   "execution_count": null,
   "id": "87d75b9a-ae98-404f-8f78-dfc361bb1bf5",
   "metadata": {
    "scrolled": true
   },
   "outputs": [],
   "source": [
    "meta_dir = 'metadata/'\n",
    "file_list = os.listdir(meta_dir)\n",
    "\n",
    "for i in file_list:\n",
    "    try:\n",
    "        search_results = joblib.load('{}{}'.format(meta_dir, i))\n",
    "    \n",
    "        num_of_article = len(search_results)\n",
    "        print('----- total number of articles:', num_of_article, '-----')\n",
    "        \n",
    "        for j in range(0, num_of_article):\n",
    "            search_result = search_results[j]\n",
    "            download(search_result)\n",
    "            print(j+1, '/', num_of_article, ',', search_result['doi'])\n",
    "        print('done')\n",
    "    except:\n",
    "        pass"
   ]
  }
 ],
 "metadata": {
  "kernelspec": {
   "display_name": "Python 3 (ipykernel)",
   "language": "python",
   "name": "python3"
  },
  "language_info": {
   "codemirror_mode": {
    "name": "ipython",
    "version": 3
   },
   "file_extension": ".py",
   "mimetype": "text/x-python",
   "name": "python",
   "nbconvert_exporter": "python",
   "pygments_lexer": "ipython3",
   "version": "3.8.18"
  }
 },
 "nbformat": 4,
 "nbformat_minor": 5
}
