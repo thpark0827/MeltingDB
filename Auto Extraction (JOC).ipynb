{
 "cells": [
  {
   "cell_type": "markdown",
   "id": "42e50703-fa2b-4c38-bd09-4e3cca39860f",
   "metadata": {},
   "source": [
    "# Module Import"
   ]
  },
  {
   "cell_type": "code",
   "execution_count": null,
   "id": "2942ceb2-2ff3-405d-8864-a5bd473dd2e0",
   "metadata": {},
   "outputs": [],
   "source": [
    "from chemdataextractor import Document\n",
    "from chemdataextractor.reader.elsevier import ElsevierXmlReader\n",
    "from chemdataextractor.parse import R, I, join, AutoSentenceParser, AutoTableParser\n",
    "from chemdataextractor.model.units import TemperatureModel\n",
    "from chemdataextractor.model import StringType, ModelType, Compound\n",
    "\n",
    "import os\n",
    "import pandas as pd"
   ]
  },
  {
   "cell_type": "markdown",
   "id": "18f8816c-e09c-4a58-bc76-f9c24f53c92b",
   "metadata": {},
   "source": [
    "# Property Model"
   ]
  },
  {
   "cell_type": "code",
   "execution_count": null,
   "id": "ceedb001-e26e-4506-b3ac-158dbc3c3dbb",
   "metadata": {},
   "outputs": [],
   "source": [
    "class MeltingPoint(TemperatureModel):\n",
    "    \"\"\" A melting point measurement \"\"\"\n",
    "    \n",
    "    specifier_expression = (\n",
    "        R(\"[Mm]elting\") + R(\"point(s?)\")\n",
    "        | R(\"[Mm]elting\") + R(\"temperature(s?)\")\n",
    "        | I(\"Tm\")\n",
    "        | I(\"mp\")\n",
    "        | I(\"m.p\")\n",
    "        | I(\"m.p.\")\n",
    "        | I(\"MP\")\n",
    "        | I(\"M.P\")\n",
    "        | I(\"M.P.\")\n",
    "    ).add_action(join)\n",
    "    \n",
    "    specifier = StringType(parse_expression=specifier_expression, required=True)\n",
    "    compound = ModelType(Compound, contextual=True, required=True)\n",
    "    parsers = [AutoSentenceParser(),  AutoTableParser()]"
   ]
  },
  {
   "cell_type": "markdown",
   "id": "8257b8e2-5a95-4cf6-8277-91634f84bc11",
   "metadata": {},
   "source": [
    "# Auto Extraction"
   ]
  },
  {
   "cell_type": "code",
   "execution_count": null,
   "id": "d46dc113-8af9-4dbd-a624-63aca747e47d",
   "metadata": {},
   "outputs": [],
   "source": [
    "folder = 'metadata/Article'\n",
    "file_list = os.listdir(folder)"
   ]
  },
  {
   "cell_type": "code",
   "execution_count": null,
   "id": "dc77f6ad-7aae-485d-bb88-1097aca4cbfe",
   "metadata": {},
   "outputs": [],
   "source": [
    "records = []\n",
    "\n",
    "for i in range(len(file_list)):\n",
    "    article = file_list[i]\n",
    "    print(article)\n",
    "    \n",
    "    try:\n",
    "        f = open(folder + \"/\" + article, 'rb')\n",
    "        doc = Document.from_file(f, readers=[ElsevierXmlReader()])\n",
    "\n",
    "        extraction_model = MeltingPoint\n",
    "        doc.models = [extraction_model]\n",
    "        \n",
    "        try:\n",
    "            metadata = doc.metadata.serialize()\n",
    "        except:\n",
    "            metadata = \"Not Found\"\n",
    "\n",
    "        parsed_information = doc.records.serialize()\n",
    "\n",
    "        for j in parsed_information:\n",
    "            if \"Compound\" in j:\n",
    "                continue\n",
    "            j[\"Article Metadata\"] = metadata\n",
    "            j[\"Extraction Model\"] = extraction_model\n",
    "            records.append(j)\n",
    "            \n",
    "    except:\n",
    "        print('Unable to read document')"
   ]
  },
  {
   "cell_type": "code",
   "execution_count": null,
   "id": "7b02dbb5-d0be-470b-aaf4-4a47812a1ab8",
   "metadata": {},
   "outputs": [],
   "source": [
    "Auto_Extraction_Records = pd.DataFrame(records)\n",
    "\n",
    "Auto_Extraction_Records.to_csv(\"elsevier_joc.csv\", encoding='utf-8-sig')"
   ]
  }
 ],
 "metadata": {
  "kernelspec": {
   "display_name": "Python 3 (ipykernel)",
   "language": "python",
   "name": "python3"
  },
  "language_info": {
   "codemirror_mode": {
    "name": "ipython",
    "version": 3
   },
   "file_extension": ".py",
   "mimetype": "text/x-python",
   "name": "python",
   "nbconvert_exporter": "python",
   "pygments_lexer": "ipython3",
   "version": "3.8.18"
  }
 },
 "nbformat": 4,
 "nbformat_minor": 5
}
